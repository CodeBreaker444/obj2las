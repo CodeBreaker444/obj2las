{
 "cells": [
  {
   "cell_type": "code",
   "execution_count": 2,
   "metadata": {},
   "outputs": [
    {
     "name": "stdout",
     "output_type": "stream",
     "text": [
      "Requirement already satisfied: laspy in /home/un1t/anaconda3/envs/3d-models/lib/python3.11/site-packages (2.5.4)\n",
      "Requirement already satisfied: numpy in /home/un1t/anaconda3/envs/3d-models/lib/python3.11/site-packages (from laspy) (1.26.4)\n"
     ]
    }
   ],
   "source": [
    "!pip install laspy"
   ]
  },
  {
   "cell_type": "code",
   "execution_count": 24,
   "metadata": {},
   "outputs": [
    {
     "name": "stdout",
     "output_type": "stream",
     "text": [
      "-----------------------------file:  build/output_pointcloud_pila_original.las\n",
      "<LasHeader(1.3, <PointFormat(3, 0 bytes of extra dims)>)>\n",
      "[0.001 0.001 0.001]\n",
      "[ 369000. 5148000.       0.]\n",
      "[3.69142281e+05 5.14848800e+06 5.50000793e+02]\n",
      "[3.69144344e+05 5.14849150e+06 5.61660095e+02]\n",
      "11272018\n",
      "0.001\n",
      "0.001\n",
      "0.001\n",
      "369000.0\n",
      "5148000.0\n",
      "0.0\n",
      "369144.34375\n",
      "5148491.5\n",
      "561.6600952148438\n",
      "369142.28125\n",
      "5148488.0\n",
      "550.0007934570312\n",
      "[]\n",
      "11272018\n",
      "[0 0 0 0 0 0 0 0 0 0 0 0 0 0 0]\n",
      "369143.25 5148489.0 552.432\n",
      "369143.25 5148489.0 552.433\n",
      "369143.25 5148489.0 552.437\n",
      "369143.25 5148489.0 552.434\n",
      "369143.25 5148489.0 552.439\n",
      "369143.25 5148489.0 552.439\n",
      "369143.25 5148489.0 552.441\n",
      "369143.25 5148489.0 552.441\n",
      "369143.25 5148489.0 552.445\n",
      "369143.25 5148489.0 552.445\n",
      "-------------------------------------------------END\n",
      "-----------------------------file:  build/output_pointcloud_pila_shifted.las\n",
      "<LasHeader(1.3, <PointFormat(3, 0 bytes of extra dims)>)>\n",
      "[0.001 0.001 0.001]\n",
      "[143.25337219 488.99816895 552.43255615]\n",
      "[142.27539063 487.96258545 550.00079346]\n",
      "[144.35806274 491.30413818 561.66009521]\n",
      "11272018\n",
      "0.001\n",
      "0.001\n",
      "0.001\n",
      "143.2533721923828\n",
      "488.9981689453125\n",
      "552.4325561523439\n",
      "144.35806274414062\n",
      "491.3041381826624\n",
      "561.660095214844\n",
      "142.2753906250582\n",
      "487.96258544921875\n",
      "550.0007934570311\n",
      "[]\n",
      "11272018\n",
      "[0 0 0 0 0 0 0 0 0 0 0 0 0 0 0]\n",
      "143.2533721923828 488.9981689453125 552.4325561523439\n",
      "143.2533721923828 488.9991689453125 552.4325561523439\n",
      "143.2533721923828 488.9981689453125 552.4375561523439\n",
      "143.2523721923828 489.0011689453125 552.4335561523438\n",
      "143.2513721923828 489.0051689453125 552.4385561523438\n",
      "143.25437219238282 488.9971689453125 552.4385561523438\n",
      "143.25537219238282 488.9951689453125 552.4415561523439\n",
      "143.2533721923828 488.9981689453125 552.4405561523439\n",
      "143.2533721923828 488.9961689453125 552.4445561523438\n",
      "143.2513721923828 488.9981689453125 552.4445561523438\n",
      "-------------------------------------------------END\n"
     ]
    }
   ],
   "source": [
    "# read 3d models las files and print first 10 points along with the header\n",
    "import numpy as np\n",
    "import laspy\n",
    "import sys\n",
    "\n",
    "def read_las_file(file_name):\n",
    "    try:\n",
    "        las_file = laspy.read(file_name)\n",
    "        print(\"-----------------------------file: \", file_name)\n",
    "\n",
    "        print(las_file.header)\n",
    "        print(las_file.header.scale)\n",
    "        print(las_file.header.offset)\n",
    "        print(las_file.header.min)\n",
    "        print(las_file.header.max)\n",
    "        print(las_file.header.point_count)\n",
    "        print(las_file.header.x_scale)\n",
    "        print(las_file.header.y_scale)\n",
    "        print(las_file.header.z_scale)\n",
    "        print(las_file.header.x_offset)\n",
    "        print(las_file.header.y_offset)\n",
    "        print(las_file.header.z_offset)\n",
    "        print(las_file.header.x_max)\n",
    "        print(las_file.header.y_max)\n",
    "        print(las_file.header.z_max)\n",
    "        print(las_file.header.x_min)\n",
    "        print(las_file.header.y_min)\n",
    "        print(las_file.header.z_min)\n",
    "        # print(las_file.header.data_offset)\n",
    "        print(las_file.header.vlrs)\n",
    "        print(las_file.header.point_records_count)\n",
    "        print(las_file.header.point_return_count)\n",
    "        # print(las_file.header.classification)\n",
    "        for i in range(10):\n",
    "            print(las_file.x[i], las_file.y[i], las_file.z[i])\n",
    "        print(\"-------------------------------------------------END\")\n",
    "    except Exception as e:\n",
    "        print(e)\n",
    "        sys.exit(1)\n",
    "\n",
    "if __name__ == '__main__':\n",
    "    lasfiles=[\"build/output_pointcloud_pila_original.las\", \"build/output_pointcloud_pila_shifted.las\"]\n",
    "    for file in lasfiles:\n",
    "        read_las_file(file)\n"
   ]
  },
  {
   "cell_type": "code",
   "execution_count": null,
   "metadata": {},
   "outputs": [],
   "source": []
  }
 ],
 "metadata": {
  "kernelspec": {
   "display_name": "3d-models",
   "language": "python",
   "name": "python3"
  },
  "language_info": {
   "codemirror_mode": {
    "name": "ipython",
    "version": 3
   },
   "file_extension": ".py",
   "mimetype": "text/x-python",
   "name": "python",
   "nbconvert_exporter": "python",
   "pygments_lexer": "ipython3",
   "version": "3.11.9"
  }
 },
 "nbformat": 4,
 "nbformat_minor": 2
}
